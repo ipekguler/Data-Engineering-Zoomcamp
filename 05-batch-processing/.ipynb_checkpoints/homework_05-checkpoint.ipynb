{
 "cells": [
  {
   "cell_type": "code",
   "execution_count": 1,
   "id": "4db5dba8",
   "metadata": {},
   "outputs": [
    {
     "name": "stderr",
     "output_type": "stream",
     "text": [
      "25/03/07 00:00:02 WARN Utils: Your hostname, BTT-IPEKGULER resolves to a loopback address: 127.0.1.1; using 10.255.255.254 instead (on interface lo)\n",
      "25/03/07 00:00:02 WARN Utils: Set SPARK_LOCAL_IP if you need to bind to another address\n",
      "Setting default log level to \"WARN\".\n",
      "To adjust logging level use sc.setLogLevel(newLevel). For SparkR, use setLogLevel(newLevel).\n",
      "25/03/07 00:00:03 WARN NativeCodeLoader: Unable to load native-hadoop library for your platform... using builtin-java classes where applicable\n"
     ]
    }
   ],
   "source": [
    "import pyspark\n",
    "from pyspark.sql import SparkSession\n",
    "\n",
    "spark = SparkSession.builder \\\n",
    "        .master(\"local[*]\") \\\n",
    "        .appName('test') \\\n",
    "        .getOrCreate()"
   ]
  },
  {
   "cell_type": "code",
   "execution_count": 2,
   "id": "caa96683",
   "metadata": {},
   "outputs": [
    {
     "data": {
      "text/plain": [
       "'3.5.5'"
      ]
     },
     "execution_count": 2,
     "metadata": {},
     "output_type": "execute_result"
    }
   ],
   "source": [
    "spark.version"
   ]
  },
  {
   "cell_type": "code",
   "execution_count": 3,
   "id": "498fbf9e",
   "metadata": {},
   "outputs": [
    {
     "name": "stderr",
     "output_type": "stream",
     "text": [
      "                                                                                \r"
     ]
    },
    {
     "name": "stdout",
     "output_type": "stream",
     "text": [
      "+--------+--------------------+---------------------+---------------+-------------+----------+------------------+------------+------------+------------+-----------+-----+-------+----------+------------+---------------------+------------+--------------------+-----------+\n",
      "|VendorID|tpep_pickup_datetime|tpep_dropoff_datetime|passenger_count|trip_distance|RatecodeID|store_and_fwd_flag|PULocationID|DOLocationID|payment_type|fare_amount|extra|mta_tax|tip_amount|tolls_amount|improvement_surcharge|total_amount|congestion_surcharge|Airport_fee|\n",
      "+--------+--------------------+---------------------+---------------+-------------+----------+------------------+------------+------------+------------+-----------+-----+-------+----------+------------+---------------------+------------+--------------------+-----------+\n",
      "|       1| 2024-10-07 16:40:43|  2024-10-07 18:10:56|              1|         14.8|        99|                 N|         127|         225|           1|       47.5|  0.0|    0.5|       0.0|        6.94|                  0.0|       54.94|                 0.0|        0.0|\n",
      "|       2| 2024-10-04 14:17:41|  2024-10-04 14:26:47|              1|          1.1|         1|                 N|         113|         211|           1|        9.3|  0.0|    0.5|      2.66|         0.0|                  1.0|       15.96|                 2.5|        0.0|\n",
      "|       2| 2024-10-01 11:17:28|  2024-10-01 11:32:18|              1|         4.63|         1|                 N|         231|         170|           1|       21.9|  0.0|    0.5|      5.18|         0.0|                  1.0|       31.08|                 2.5|        0.0|\n",
      "|       1| 2024-10-08 17:12:07|  2024-10-08 17:35:56|              1|          2.4|         1|                 N|         236|         100|           1|       19.8|  5.0|    0.5|      5.25|         0.0|                  1.0|       31.55|                 2.5|        0.0|\n",
      "|       1| 2024-10-01 15:37:08|  2024-10-01 15:54:23|              1|          2.1|         1|                 N|         237|          75|           1|       16.3|  2.5|    0.5|      4.05|         0.0|                  1.0|       24.35|                 2.5|        0.0|\n",
      "|       1| 2024-10-09 10:14:04|  2024-10-09 10:28:13|              1|          1.7|         1|                 N|         161|         234|           1|       12.8|  2.5|    0.5|      3.35|         0.0|                  1.0|       20.15|                 2.5|        0.0|\n",
      "|       2| 2024-10-04 17:08:38|  2024-10-04 18:03:10|              1|        17.42|         1|                 N|         132|          17|           1|       75.1|  2.5|    0.5|     19.77|         0.0|                  1.0|      100.62|                 0.0|       1.75|\n",
      "|       2| 2024-10-05 01:27:22|  2024-10-05 01:40:37|              1|         1.88|         1|                 N|         148|         137|           1|       13.5|  1.0|    0.5|       3.7|         0.0|                  1.0|        22.2|                 2.5|        0.0|\n",
      "|       2| 2024-10-05 23:50:45|  2024-10-06 00:00:32|              1|         1.06|         1|                 N|          79|         211|           1|       10.0|  1.0|    0.5|       2.0|         0.0|                  1.0|        17.0|                 2.5|        0.0|\n",
      "|       2| 2024-10-02 14:31:14|  2024-10-02 14:45:59|              1|         2.88|         1|                 N|         231|         246|           2|       17.0|  0.0|    0.5|       0.0|         0.0|                  1.0|        21.0|                 2.5|        0.0|\n",
      "|       2| 2024-10-10 08:25:53|  2024-10-10 08:27:59|              1|          0.4|         1|                 N|         237|         237|           1|        4.4|  0.0|    0.5|       2.5|         0.0|                  1.0|        10.9|                 2.5|        0.0|\n",
      "|       2| 2024-10-04 23:07:32|  2024-10-04 23:15:38|              1|         0.94|         1|                 N|         142|          48|           1|        9.3|  1.0|    0.5|      2.86|         0.0|                  1.0|       17.16|                 2.5|        0.0|\n",
      "|       2| 2024-10-04 17:00:04|  2024-10-04 17:07:54|              1|         0.85|         1|                 N|         170|         137|           2|        8.6|  2.5|    0.5|       0.0|         0.0|                  1.0|        15.1|                 2.5|        0.0|\n",
      "|       1| 2024-10-09 23:12:34|  2024-10-09 23:29:17|              1|          3.5|         1|                 N|         163|         211|           1|       17.7|  3.5|    0.5|       1.5|         0.0|                  1.0|        24.2|                 2.5|        0.0|\n",
      "|       2| 2024-10-09 21:19:16|  2024-10-09 21:53:56|              1|        12.33|         1|                 N|         237|         181|           1|       51.3|  1.0|    0.5|     15.81|        6.94|                  1.0|       79.05|                 2.5|        0.0|\n",
      "|       2| 2024-10-02 15:30:00|  2024-10-02 15:36:43|              1|         0.54|         1|                 N|          79|         113|           1|        7.2|  0.0|    0.5|       2.0|         0.0|                  1.0|        13.2|                 2.5|        0.0|\n",
      "|       2| 2024-10-01 20:12:23|  2024-10-01 20:23:32|              1|          2.1|         1|                 N|         161|         239|           1|       12.8|  1.0|    0.5|      3.56|         0.0|                  1.0|       21.36|                 2.5|        0.0|\n",
      "|       2| 2024-10-04 17:46:07|  2024-10-04 17:54:18|              1|         1.34|         1|                 N|         161|         141|           1|        9.3|  2.5|    0.5|      3.16|         0.0|                  1.0|       18.96|                 2.5|        0.0|\n",
      "|       2| 2024-10-05 09:16:58|  2024-10-05 09:20:40|              2|         0.91|         1|                 N|         141|         236|           1|        6.5|  0.0|    0.5|       2.1|         0.0|                  1.0|        12.6|                 2.5|        0.0|\n",
      "|       2| 2024-10-08 16:14:39|  2024-10-08 16:26:05|              1|          2.2|         1|                 N|         249|          13|           1|       13.5|  2.5|    0.5|       4.0|         0.0|                  1.0|        24.0|                 2.5|        0.0|\n",
      "+--------+--------------------+---------------------+---------------+-------------+----------+------------------+------------+------------+------------+-----------+-----+-------+----------+------------+---------------------+------------+--------------------+-----------+\n",
      "only showing top 20 rows\n",
      "\n"
     ]
    }
   ],
   "source": [
    "df = spark.read \\\n",
    "    .option(\"header\", \"true\") \\\n",
    "    .parquet('yellow_tripdata_2024-10.parquet') \\\n",
    "    .repartition(4)\n",
    "\n",
    "df.show()"
   ]
  },
  {
   "cell_type": "code",
   "execution_count": 5,
   "id": "104e64c8",
   "metadata": {},
   "outputs": [
    {
     "name": "stderr",
     "output_type": "stream",
     "text": [
      "                                                                                \r"
     ]
    }
   ],
   "source": [
    "df.write.parquet('yellow/2024/10', mode=\"overwrite\")"
   ]
  },
  {
   "cell_type": "code",
   "execution_count": 6,
   "id": "9fe1ef67",
   "metadata": {},
   "outputs": [
    {
     "name": "stderr",
     "output_type": "stream",
     "text": [
      "/home/ipekguler/anaconda3/lib/python3.9/site-packages/pyspark/sql/dataframe.py:329: FutureWarning: Deprecated in 2.0, use createOrReplaceTempView instead.\n",
      "  warnings.warn(\"Deprecated in 2.0, use createOrReplaceTempView instead.\", FutureWarning)\n",
      "[Stage 8:===========================================>              (9 + 3) / 12]\r"
     ]
    },
    {
     "name": "stdout",
     "output_type": "stream",
     "text": [
      "+------+\n",
      "| count|\n",
      "+------+\n",
      "|128893|\n",
      "+------+\n",
      "\n"
     ]
    },
    {
     "name": "stderr",
     "output_type": "stream",
     "text": [
      "\r",
      "                                                                                \r"
     ]
    }
   ],
   "source": [
    "df.registerTempTable('trips_data')\n",
    "\n",
    "spark.sql(\"\"\"\n",
    "SELECT COUNT(*) AS count\n",
    "FROM trips_data\n",
    "WHERE DATE_TRUNC('day', tpep_pickup_datetime) = '2024-10-15 00:00:00';\n",
    "\"\"\").show()"
   ]
  },
  {
   "cell_type": "code",
   "execution_count": 7,
   "id": "1fa51a4f",
   "metadata": {},
   "outputs": [
    {
     "name": "stderr",
     "output_type": "stream",
     "text": [
      "[Stage 16:>                                                         (0 + 4) / 4]\r"
     ]
    },
    {
     "name": "stdout",
     "output_type": "stream",
     "text": [
      "+--------+\n",
      "|duration|\n",
      "+--------+\n",
      "|     162|\n",
      "+--------+\n",
      "\n"
     ]
    },
    {
     "name": "stderr",
     "output_type": "stream",
     "text": [
      "\r",
      "[Stage 16:=============================>                            (2 + 2) / 4]\r",
      "\r",
      "                                                                                \r"
     ]
    }
   ],
   "source": [
    "spark.sql(\"\"\"\n",
    "SELECT DATEDIFF(hour, tpep_pickup_datetime, tpep_dropoff_datetime) AS duration\n",
    "FROM trips_data\n",
    "ORDER BY duration DESC\n",
    "LIMIT 1;\n",
    "\"\"\").show()"
   ]
  },
  {
   "cell_type": "code",
   "execution_count": 8,
   "id": "78dd26c1",
   "metadata": {},
   "outputs": [
    {
     "name": "stdout",
     "output_type": "stream",
     "text": [
      "+----------+-------------+--------------------+------------+\n",
      "|LocationID|      Borough|                Zone|service_zone|\n",
      "+----------+-------------+--------------------+------------+\n",
      "|         1|          EWR|      Newark Airport|         EWR|\n",
      "|         2|       Queens|         Jamaica Bay|   Boro Zone|\n",
      "|         3|        Bronx|Allerton/Pelham G...|   Boro Zone|\n",
      "|         4|    Manhattan|       Alphabet City| Yellow Zone|\n",
      "|         5|Staten Island|       Arden Heights|   Boro Zone|\n",
      "|         6|Staten Island|Arrochar/Fort Wad...|   Boro Zone|\n",
      "|         7|       Queens|             Astoria|   Boro Zone|\n",
      "|         8|       Queens|        Astoria Park|   Boro Zone|\n",
      "|         9|       Queens|          Auburndale|   Boro Zone|\n",
      "|        10|       Queens|        Baisley Park|   Boro Zone|\n",
      "|        11|     Brooklyn|          Bath Beach|   Boro Zone|\n",
      "|        12|    Manhattan|        Battery Park| Yellow Zone|\n",
      "|        13|    Manhattan|   Battery Park City| Yellow Zone|\n",
      "|        14|     Brooklyn|           Bay Ridge|   Boro Zone|\n",
      "|        15|       Queens|Bay Terrace/Fort ...|   Boro Zone|\n",
      "|        16|       Queens|             Bayside|   Boro Zone|\n",
      "|        17|     Brooklyn|             Bedford|   Boro Zone|\n",
      "|        18|        Bronx|        Bedford Park|   Boro Zone|\n",
      "|        19|       Queens|           Bellerose|   Boro Zone|\n",
      "|        20|        Bronx|             Belmont|   Boro Zone|\n",
      "+----------+-------------+--------------------+------------+\n",
      "only showing top 20 rows\n",
      "\n"
     ]
    }
   ],
   "source": [
    "zone_df = spark.read \\\n",
    "        .option(\"header\", \"true\") \\\n",
    "        .csv('taxi_zone_lookup.csv')\n",
    "\n",
    "zone_df.createOrReplaceTempView(\"zone_data\")\n",
    "\n",
    "zone_df.show()"
   ]
  },
  {
   "cell_type": "code",
   "execution_count": 9,
   "id": "546972e0",
   "metadata": {},
   "outputs": [
    {
     "name": "stderr",
     "output_type": "stream",
     "text": [
      "[Stage 22:>                                                         (0 + 4) / 4]\r"
     ]
    },
    {
     "name": "stdout",
     "output_type": "stream",
     "text": [
      "+--------+------------+--------------------+\n",
      "|count(1)|PULocationID|                Zone|\n",
      "+--------+------------+--------------------+\n",
      "|       1|         105|Governor's Island...|\n",
      "+--------+------------+--------------------+\n",
      "\n"
     ]
    },
    {
     "name": "stderr",
     "output_type": "stream",
     "text": [
      "\r",
      "                                                                                \r"
     ]
    }
   ],
   "source": [
    "spark.sql(\"\"\"\n",
    "SELECT COUNT(*),\n",
    "PULocationID, Zone\n",
    "FROM trips_data\n",
    "LEFT JOIN zone_data\n",
    "ON PULocationID = LocationID\n",
    "GROUP BY PULocationID, Zone\n",
    "ORDER BY COUNT(*) ASC\n",
    "LIMIT 1;\n",
    "\"\"\").show()"
   ]
  }
 ],
 "metadata": {
  "kernelspec": {
   "display_name": "Python 3 (ipykernel)",
   "language": "python",
   "name": "python3"
  },
  "language_info": {
   "codemirror_mode": {
    "name": "ipython",
    "version": 3
   },
   "file_extension": ".py",
   "mimetype": "text/x-python",
   "name": "python",
   "nbconvert_exporter": "python",
   "pygments_lexer": "ipython3",
   "version": "3.9.12"
  }
 },
 "nbformat": 4,
 "nbformat_minor": 5
}
